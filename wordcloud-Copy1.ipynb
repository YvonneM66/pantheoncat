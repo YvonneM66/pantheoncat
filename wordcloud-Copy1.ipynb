{
 "cells": [
  {
   "cell_type": "code",
   "execution_count": 29,
   "id": "de654773-9488-4266-8b03-f0b23531c53c",
   "metadata": {},
   "outputs": [],
   "source": [
    "#!/usr/bin/env python\n",
    "# coding=utf-8\n",
    "import os\n",
    "import sys\n",
    "import jieba\n",
    "from wordcloud import WordCloud\n",
    "if sys.version.startswith('2.'):\n",
    "    reload(sys)\n",
    "    sys.setdefaultencoding('utf-8')\n",
    "    \n",
    "# 加上停用字库\n",
    "stopwords = set()\n",
    "content = [line.strip() for line in open('stopword111.txt',encoding='utf-8').readlines()]\n",
    "stopwords.update(content)\n",
    "\n",
    "#如果还要添加删词的话，建议是直接改字库，也可以在这里删\n",
    "stopwordsplus = [\n",
    "       u'游戏', u'就是', u'没有', u'但是', u'内容', u'可以', u'感觉', u'现在', u'体验', u'建议', u'知道', u'因为', u'一个', u'我求'\n",
    "       u'一个', u'目前', u'还是', u'这个', u'很多', u'只能', u'如果', u'虽然', u'发现', u'觉得', u'怎么', u'然后', u'一直', u'什么', u'不是', u'还有'\n",
    "       ]\n",
    "stopwords.update(stopwordsplus)\n",
    "#上面这行不需要赋值\n",
    "\n",
    "def load_file(file_path):\n",
    "    if sys.version.startswith('2.'):\n",
    "        with open(file_path) as f:\n",
    "            lines = f.readlines()\n",
    "    else:\n",
    "        with open(file_path, encoding='utf-8') as f:\n",
    "            lines = f.readlines()\n",
    "    content = ''\n",
    "    for line in lines:\n",
    "        line = line.encode('unicode-escape').decode('unicode-escape')\n",
    "        line = line.strip().rstrip('\\n')\n",
    "        content += line\n",
    "    words = jieba.cut(content)\n",
    "    l = []\n",
    "    for w in words:\n",
    "        # 如果词的长度小于 2，则舍去\n",
    "        if len(w) < 2: continue\n",
    "        l.append(w)\n",
    "    return ' '.join(l)\n",
    "if __name__ == '__main__':\n",
    "    file_path = './dxlzz.txt'\n",
    "    content = load_file(file_path)\n",
    "    wc = WordCloud(\n",
    "            font_path=\"./simhei.ttf\",\n",
    "            stopwords=stopwords,\n",
    "            width=2000, height=1200)\n",
    "    wc.generate(content)\n",
    "    wc.to_file(\"wordcloudn4.jpg\")"
   ]
  },
  {
   "cell_type": "code",
   "execution_count": null,
   "id": "43af0e7f-c1b5-4cdc-b660-d03ab3e04010",
   "metadata": {},
   "outputs": [],
   "source": []
  }
 ],
 "metadata": {
  "kernelspec": {
   "display_name": "Python 3 (ipykernel)",
   "language": "python",
   "name": "python3"
  },
  "language_info": {
   "codemirror_mode": {
    "name": "ipython",
    "version": 3
   },
   "file_extension": ".py",
   "mimetype": "text/x-python",
   "name": "python",
   "nbconvert_exporter": "python",
   "pygments_lexer": "ipython3",
   "version": "3.9.13"
  }
 },
 "nbformat": 4,
 "nbformat_minor": 5
}
