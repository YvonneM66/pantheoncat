{
 "cells": [
  {
   "cell_type": "code",
   "execution_count": 4,
   "id": "ecdda60b-0c68-4923-8ffa-5de0b76b3516",
   "metadata": {},
   "outputs": [
    {
     "name": "stdout",
     "output_type": "stream",
     "text": [
      "游戏     555\n",
      "内容     168\n",
      "可以     164\n",
      "就是     156\n",
      "但是     153\n",
      "没有     137\n",
      "一个     136\n",
      "剧情     133\n",
      "目前     127\n",
      "还是     126\n",
      "完全版    122\n",
      "这个     121\n",
      "我求     117\n",
      "时间     115\n",
      "玩家     113\n",
      "任务     109\n",
      "希望     106\n",
      "武侠     101\n",
      "好玩      99\n",
      "现在      93\n",
      "很多      90\n",
      "感觉      90\n",
      "真的      89\n",
      "什么      80\n",
      "限制      79\n",
      "知道      78\n",
      "还有      77\n",
      "不是      74\n",
      "体验      74\n",
      "门派      71\n",
      "不错      70\n",
      "小时      69\n",
      "EA      65\n",
      "只能      65\n",
      "建议      62\n",
      "喜欢      61\n",
      "武功      61\n",
      "不能      60\n",
      "更新      60\n",
      "大侠      60\n"
     ]
    }
   ],
   "source": [
    "import jieba\n",
    "\n",
    "txt = open('dxlzz.txt', 'r', encoding='utf-8').read()\n",
    "words = jieba.lcut(txt)\n",
    "counts = {}\n",
    "\n",
    "for word in words:\n",
    "    if len(word) == 1:\n",
    "         continue\n",
    "    else: \n",
    "        counts[word] = counts.get(word,0)+1\n",
    "\n",
    "items = list(counts.items())\n",
    "items.sort(key=lambda x: x[1], reverse=True)\n",
    "\n",
    "for i in range (40):\n",
    "    word, count = items[i]\n",
    "    print('{0:<5}{1:>5}'.format(word, count))\n"
   ]
  },
  {
   "cell_type": "code",
   "execution_count": null,
   "id": "8460506d-8e9f-42e4-9436-cfdd6969090a",
   "metadata": {},
   "outputs": [],
   "source": []
  }
 ],
 "metadata": {
  "kernelspec": {
   "display_name": "Python 3 (ipykernel)",
   "language": "python",
   "name": "python3"
  },
  "language_info": {
   "codemirror_mode": {
    "name": "ipython",
    "version": 3
   },
   "file_extension": ".py",
   "mimetype": "text/x-python",
   "name": "python",
   "nbconvert_exporter": "python",
   "pygments_lexer": "ipython3",
   "version": "3.9.13"
  }
 },
 "nbformat": 4,
 "nbformat_minor": 5
}
