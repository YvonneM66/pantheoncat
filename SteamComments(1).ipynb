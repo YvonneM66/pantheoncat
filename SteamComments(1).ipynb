{
 "cells": [
  {
   "cell_type": "code",
   "execution_count": 9,
   "metadata": {},
   "outputs": [],
   "source": [
    "from lxml import etree\n",
    "import requests\n",
    "from time import sleep\n",
    "from selenium import webdriver\n",
    "from selenium.webdriver.common.by import By\n",
    "import pandas as pd"
   ]
  },
  {
   "cell_type": "code",
   "execution_count": 10,
   "metadata": {},
   "outputs": [],
   "source": [
    "#Change the url as you want！！！\n",
    "url = 'https://steamcommunity.com/app/1948980/reviews/?browsefilter=toprated&snr=1_5_100010_&filterLanguage=all'\n",
    "#UA \n",
    "headers = {\n",
    "    'User-Agent':'Mozilla/5.0 (Windows NT 10.0; Win64; x64) AppleWebKit/537.36 (KHTML, like Gecko) Chrome/89.0.4389.128 Safari/537.36'\n",
    "}\n",
    "#Selenium仿真操作\n",
    "bro = webdriver.Chrome()\n",
    "bro.get(url)"
   ]
  },
  {
   "cell_type": "code",
   "execution_count": 11,
   "metadata": {},
   "outputs": [],
   "source": [
    "#每次循环获取7个评论！！！300是我调过的，之前是500，根据评论多少来调整\n",
    "#现在Steam拉到最下面有一定的几率评论不会持续出现，需要往上滚一下，然后再往下移动一下，才能持续出现……\n",
    "for i in range(0,300):\n",
    "    bro.execute_script(\"window.scrollTo(0,document.body.scrollHeight)\")\n",
    "    sleep(2)"
   ]
  },
  {
   "cell_type": "code",
   "execution_count": 12,
   "metadata": {},
   "outputs": [
    {
     "name": "stderr",
     "output_type": "stream",
     "text": [
      "C:\\Users\\Administrator\\AppData\\Local\\Temp\\ipykernel_21908\\1240312962.py:46: FutureWarning: As the xlwt package is no longer maintained, the xlwt engine will be removed in a future version of pandas. This is the only engine in pandas that supports writing in the xls format. Install openpyxl and write to an xlsx file instead. You can set the option io.excel.xls.writer to 'xlwt' to silence this warning. While this option is deprecated and will also raise a warning, it can be globally set and the warning suppressed.\n",
      "  df.to_excel('./SteamComments_daxializhizhuan.xls',encoding=\"utf_8_sig\")\n"
     ]
    }
   ],
   "source": [
    "#每次循环获取7个评论！！！\n",
    "page_text = bro.page_source\n",
    "tree = etree.HTML(page_text)\n",
    "div_list = tree.xpath('//*[@id=\"AppHubCards\"]/div')\n",
    "values = []\n",
    "happy_nums = []\n",
    "suggests = []\n",
    "hours = []\n",
    "dates = []\n",
    "comments = []\n",
    "for di in div_list:\n",
    "    lis = di.xpath('./div')\n",
    "    for div in lis:\n",
    "        value = div.xpath('.//div[@class=\"found_helpful\"]/text()')[0]\n",
    "        value = value.strip()\n",
    "        value = filter(str.isdigit, value)\n",
    "        value = (''.join(list(value)))\n",
    "        values.append(value)\n",
    "        happy = div.xpath('.//div[@class=\"found_helpful\"]/text()')[1]\n",
    "        happy = happy.strip()\n",
    "        happy = filter(str.isdigit, happy)\n",
    "        happy = (''.join(list(happy)))\n",
    "        happy_nums.append(happy)\n",
    "        suggest= div.xpath('.//div[@class=\"title\"]//text()')[0]\n",
    "        suggests.append(suggest)\n",
    "        hour= div.xpath('.//div[@class=\"hours\"]//text()')[0]\n",
    "        hours.append(hour)\n",
    "        date= div.xpath('.//div[@class=\"date_posted\"]/text()')[0]\n",
    "        dates.append(date)\n",
    "        try:         \n",
    "            comment= div.xpath('.//div[@class=\"apphub_UserReviewCardContent\"]/div[3]/text()')[2]\n",
    "            comment = comment.strip()\n",
    "            comments.append(comment)\n",
    "        except Exception as e:\n",
    "            comment= div.xpath('.//div[@class=\"apphub_UserReviewCardContent\"]/div[3]/text()')\n",
    "            comments.append(comment)\n",
    "dic = {\n",
    "    'People think it\\'s useful':values,\n",
    "    'People think it\\'s humorous':happy_nums,\n",
    "    'Suggest':suggests,\n",
    "    'Play Time':hours,\n",
    "    'Date':dates,\n",
    "    'Comments':comments\n",
    "}\n",
    "df = pd.DataFrame(dic)\n",
    "df.to_excel('./SteamComments_daxializhizhuan.xls',encoding=\"utf_8_sig\")"
   ]
  },
  {
   "cell_type": "code",
   "execution_count": null,
   "metadata": {},
   "outputs": [],
   "source": []
  },
  {
   "cell_type": "code",
   "execution_count": null,
   "metadata": {},
   "outputs": [],
   "source": []
  }
 ],
 "metadata": {
  "kernelspec": {
   "display_name": "Python 3 (ipykernel)",
   "language": "python",
   "name": "python3"
  },
  "language_info": {
   "codemirror_mode": {
    "name": "ipython",
    "version": 3
   },
   "file_extension": ".py",
   "mimetype": "text/x-python",
   "name": "python",
   "nbconvert_exporter": "python",
   "pygments_lexer": "ipython3",
   "version": "3.9.13"
  }
 },
 "nbformat": 4,
 "nbformat_minor": 4
}
